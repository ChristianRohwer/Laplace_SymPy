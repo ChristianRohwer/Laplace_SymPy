{
 "cells": [
  {
   "cell_type": "markdown",
   "metadata": {},
   "source": [
    "# Laplace-Transformationen in `Python` mit der `sympy`-Library"
   ]
  },
  {
   "cell_type": "markdown",
   "metadata": {},
   "source": [
    "#### `sympy` (\"symbolic python\"): nützlich für symbolische / analytische Berechnungen"
   ]
  },
  {
   "cell_type": "code",
   "execution_count": 48,
   "metadata": {},
   "outputs": [],
   "source": [
    "import sympy\n",
    "sympy.init_printing()\n",
    "import matplotlib.pyplot as plt\n",
    "%matplotlib inline\n",
    "import numpy as np\n",
    "from IPython.display import set_matplotlib_formats\n",
    "set_matplotlib_formats('retina')"
   ]
  },
  {
   "cell_type": "markdown",
   "metadata": {},
   "source": [
    "## 1. Prototypisches Beispiel: LT von $ e^{-a t}$\n",
    "### a) Symbole und funktionen definitieren:"
   ]
  },
  {
   "cell_type": "code",
   "execution_count": 2,
   "metadata": {},
   "outputs": [],
   "source": [
    "t, s = sympy.symbols('t, s')\n",
    "a = sympy.symbols('a', real=True, positive=True)"
   ]
  },
  {
   "cell_type": "code",
   "execution_count": 3,
   "metadata": {},
   "outputs": [],
   "source": [
    "f = sympy.exp(-a*t)"
   ]
  },
  {
   "cell_type": "code",
   "execution_count": 4,
   "metadata": {},
   "outputs": [
    {
     "data": {
      "image/png": "[encoded data removed]",
      "text/latex": [
       "$\\displaystyle e^{- a t}$"
      ],
      "text/plain": [
       " -a⋅t\n",
       "ℯ    "
      ]
     },
     "execution_count": 4,
     "metadata": {},
     "output_type": "execute_result"
    }
   ],
   "source": [
    "f"
   ]
  },
  {
   "cell_type": "markdown",
   "metadata": {},
   "source": [
    "### b) Laplace-Integral explizit ausrechnen:\n",
    "$$\n",
    "\\boxed{\\mathcal{L}(f ; s)=\\int_{0}^{\\infty} \\mathrm{e}^{-s t} f(t) d t,\\quad \\text{$\\forall s$ für welche das Integral konvergiert.}}\n",
    "$$\n",
    "- `sympy.oo` $\\Leftrightarrow \\infty$"
   ]
  },
  {
   "cell_type": "code",
   "execution_count": 6,
   "metadata": {},
   "outputs": [
    {
     "data": {
      "image/png": "[encoded data removed]",
      "text/latex": [
       "$\\displaystyle \\begin{cases} \\frac{1}{s \\left(\\frac{a}{s} + 1\\right)} & \\text{for}\\: \\left|{\\arg{\\left(s \\right)}}\\right| \\leq \\frac{\\pi}{2} \\\\\\int\\limits_{0}^{\\infty} e^{- a t} e^{- s t}\\, dt & \\text{otherwise} \\end{cases}$"
      ],
      "text/plain": [
       "⎧       1                         π\n",
       "⎪   ─────────      for │arg(s)│ ≤ ─\n",
       "⎪     ⎛a    ⎞                     2\n",
       "⎪   s⋅⎜─ + 1⎟                      \n",
       "⎪     ⎝s    ⎠                      \n",
       "⎪                                  \n",
       "⎨∞                                 \n",
       "⎪⌠                                 \n",
       "⎪⎮  -a⋅t  -s⋅t                     \n",
       "⎪⎮ ℯ    ⋅ℯ     dt     otherwise    \n",
       "⎪⌡                                 \n",
       "⎪0                                 \n",
       "⎩                                  "
      ]
     },
     "execution_count": 6,
     "metadata": {},
     "output_type": "execute_result"
    }
   ],
   "source": [
    "sympy.integrate(f*sympy.exp(-s*t), (t, 0, sympy.oo))"
   ]
  },
  {
   "cell_type": "markdown",
   "metadata": {},
   "source": [
    "### c) Es geht auch einfacher: Die `sympy.laplace_transform`-Library:"
   ]
  },
  {
   "cell_type": "code",
   "execution_count": 21,
   "metadata": {},
   "outputs": [
    {
     "data": {
      "image/png": "[encoded data removed]",
      "text/latex": [
       "$\\displaystyle \\frac{1}{a + s}$"
      ],
      "text/plain": [
       "  1  \n",
       "─────\n",
       "a + s"
      ]
     },
     "execution_count": 21,
     "metadata": {},
     "output_type": "execute_result"
    }
   ],
   "source": [
    "F = sympy.laplace_transform(f, t, s, noconds=True)\n",
    "F"
   ]
  },
  {
   "cell_type": "markdown",
   "metadata": {},
   "source": [
    "## 2. Eine Tabelle von LTen\n",
    "### a) LT als Python-Funktion definieren"
   ]
  },
  {
   "cell_type": "code",
   "execution_count": 8,
   "metadata": {},
   "outputs": [],
   "source": [
    "def L(f):\n",
    "    return sympy.laplace_transform(f, t, s, noconds=True)"
   ]
  },
  {
   "cell_type": "markdown",
   "metadata": {},
   "source": [
    "### b) Symbole und Funktionen definieren"
   ]
  },
  {
   "cell_type": "code",
   "execution_count": 13,
   "metadata": {},
   "outputs": [
    {
     "data": {
      "image/png": "[encoded data removed]",
      "text/latex": [
       "$\\displaystyle \\left[ 1, \\  t, \\  e^{- a t}, \\  t e^{- a t}, \\  t^{2} e^{- a t}, \\  \\sin{\\left(\\omega t \\right)}, \\  \\cos{\\left(\\omega t \\right)}, \\  1 - e^{- a t}, \\  e^{- a t} \\sin{\\left(\\omega t \\right)}, \\  e^{- a t} \\cos{\\left(\\omega t \\right)}\\right]$"
      ],
      "text/plain": [
       "⎡       -a⋅t     -a⋅t   2  -a⋅t                           -a⋅t   -a⋅t         \n",
       "⎣1, t, ℯ    , t⋅ℯ    , t ⋅ℯ    , sin(ω⋅t), cos(ω⋅t), 1 - ℯ    , ℯ    ⋅sin(ω⋅t)\n",
       "\n",
       "   -a⋅t         ⎤\n",
       ", ℯ    ⋅cos(ω⋅t)⎦"
      ]
     },
     "execution_count": 13,
     "metadata": {},
     "output_type": "execute_result"
    }
   ],
   "source": [
    "omega = sympy.Symbol('omega', real=True)\n",
    "exp = sympy.exp\n",
    "sin = sympy.sin\n",
    "cos = sympy.cos\n",
    "functions = [1,\n",
    "         t,\n",
    "         exp(-a*t),\n",
    "         t*exp(-a*t),\n",
    "         t**2*exp(-a*t),\n",
    "         sin(omega*t),\n",
    "         cos(omega*t),\n",
    "         1 - exp(-a*t),\n",
    "         exp(-a*t)*sin(omega*t),\n",
    "         exp(-a*t)*cos(omega*t),\n",
    "         ]\n",
    "functions"
   ]
  },
  {
   "cell_type": "markdown",
   "metadata": {},
   "source": [
    "### c) Liste von Laplace-Trafos erstellen"
   ]
  },
  {
   "cell_type": "code",
   "execution_count": 14,
   "metadata": {},
   "outputs": [
    {
     "data": {
      "image/png": "[encoded data removed]",
      "text/latex": [
       "$\\displaystyle \\left[ \\frac{1}{s}, \\  \\frac{1}{s^{2}}, \\  \\frac{1}{a + s}, \\  \\frac{1}{\\left(a + s\\right)^{2}}, \\  \\frac{2}{\\left(a + s\\right)^{3}}, \\  \\frac{\\omega}{\\omega^{2} + s^{2}}, \\  \\frac{s}{\\omega^{2} + s^{2}}, \\  \\frac{a}{s \\left(a + s\\right)}, \\  \\frac{\\omega}{\\omega^{2} + \\left(a + s\\right)^{2}}, \\  \\frac{a + s}{\\omega^{2} + \\left(a + s\\right)^{2}}\\right]$"
      ],
      "text/plain": [
       "⎡1  1     1       1         2         ω        s         a            ω       \n",
       "⎢─, ──, ─────, ────────, ────────, ───────, ───────, ─────────, ─────────────,\n",
       "⎢s   2  a + s         2         3   2    2   2    2  s⋅(a + s)   2          2 \n",
       "⎣   s          (a + s)   (a + s)   ω  + s   ω  + s              ω  + (a + s)  \n",
       "\n",
       "     a + s    ⎤\n",
       " ─────────────⎥\n",
       "  2          2⎥\n",
       " ω  + (a + s) ⎦"
      ]
     },
     "execution_count": 14,
     "metadata": {},
     "output_type": "execute_result"
    }
   ],
   "source": [
    "Fs = [L(f) for f in functions]\n",
    "Fs"
   ]
  },
  {
   "cell_type": "markdown",
   "metadata": {},
   "source": [
    "### d) Tabellarische Darstellung"
   ]
  },
  {
   "cell_type": "code",
   "execution_count": 15,
   "metadata": {},
   "outputs": [],
   "source": [
    "from pandas import DataFrame"
   ]
  },
  {
   "cell_type": "code",
   "execution_count": 16,
   "metadata": {},
   "outputs": [],
   "source": [
    "def makelatex(args):\n",
    "    return [\"$${}$$\".format(sympy.latex(a)) for a in args]"
   ]
  },
  {
   "cell_type": "code",
   "execution_count": 59,
   "metadata": {},
   "outputs": [
    {
     "data": {
      "text/html": [
       "<div>\n",
       "<style scoped>\n",
       "    .dataframe tbody tr th:only-of-type {\n",
       "        vertical-align: middle;\n",
       "    }\n",
       "\n",
       "    .dataframe tbody tr th {\n",
       "        vertical-align: top;\n",
       "    }\n",
       "\n",
       "    .dataframe thead th {\n",
       "        text-align: right;\n",
       "    }\n",
       "</style>\n",
       "<table border=\"1\" class=\"dataframe\">\n",
       "  <thead>\n",
       "    <tr style=\"text-align: right;\">\n",
       "      <th></th>\n",
       "      <th>Originalfunktion</th>\n",
       "      <th>Bildfunktion</th>\n",
       "    </tr>\n",
       "  </thead>\n",
       "  <tbody>\n",
       "    <tr>\n",
       "      <th>1</th>\n",
       "      <td>$$1$$</td>\n",
       "      <td>$$\\frac{1}{s}$$</td>\n",
       "    </tr>\n",
       "    <tr>\n",
       "      <th>2</th>\n",
       "      <td>$$t$$</td>\n",
       "      <td>$$\\frac{1}{s^{2}}$$</td>\n",
       "    </tr>\n",
       "    <tr>\n",
       "      <th>3</th>\n",
       "      <td>$$e^{- a t}$$</td>\n",
       "      <td>$$\\frac{1}{a + s}$$</td>\n",
       "    </tr>\n",
       "    <tr>\n",
       "      <th>4</th>\n",
       "      <td>$$t e^{- a t}$$</td>\n",
       "      <td>$$\\frac{1}{\\left(a + s\\right)^{2}}$$</td>\n",
       "    </tr>\n",
       "    <tr>\n",
       "      <th>5</th>\n",
       "      <td>$$t^{2} e^{- a t}$$</td>\n",
       "      <td>$$\\frac{2}{\\left(a + s\\right)^{3}}$$</td>\n",
       "    </tr>\n",
       "    <tr>\n",
       "      <th>6</th>\n",
       "      <td>$$\\sin{\\left(\\omega t \\right)}$$</td>\n",
       "      <td>$$\\frac{\\omega}{\\omega^{2} + s^{2}}$$</td>\n",
       "    </tr>\n",
       "    <tr>\n",
       "      <th>7</th>\n",
       "      <td>$$\\cos{\\left(\\omega t \\right)}$$</td>\n",
       "      <td>$$\\frac{s}{\\omega^{2} + s^{2}}$$</td>\n",
       "    </tr>\n",
       "    <tr>\n",
       "      <th>8</th>\n",
       "      <td>$$1 - e^{- a t}$$</td>\n",
       "      <td>$$\\frac{a}{s \\left(a + s\\right)}$$</td>\n",
       "    </tr>\n",
       "  </tbody>\n",
       "</table>\n",
       "</div>"
      ],
      "text/plain": [
       "                   Originalfunktion                           Bildfunktion\n",
       "1                             $$1$$                        $$\\frac{1}{s}$$\n",
       "2                             $$t$$                    $$\\frac{1}{s^{2}}$$\n",
       "3                     $$e^{- a t}$$                    $$\\frac{1}{a + s}$$\n",
       "4                   $$t e^{- a t}$$   $$\\frac{1}{\\left(a + s\\right)^{2}}$$\n",
       "5               $$t^{2} e^{- a t}$$   $$\\frac{2}{\\left(a + s\\right)^{3}}$$\n",
       "6  $$\\sin{\\left(\\omega t \\right)}$$  $$\\frac{\\omega}{\\omega^{2} + s^{2}}$$\n",
       "7  $$\\cos{\\left(\\omega t \\right)}$$       $$\\frac{s}{\\omega^{2} + s^{2}}$$\n",
       "8                 $$1 - e^{- a t}$$     $$\\frac{a}{s \\left(a + s\\right)}$$"
      ]
     },
     "execution_count": 59,
     "metadata": {},
     "output_type": "execute_result"
    }
   ],
   "source": [
    "df = DataFrame({\"Originalfunktion\" : makelatex(functions[0:-2]),\n",
    "                \"Bildfunktion\" : makelatex(Fs[0:-2])},\n",
    "                list(np.arange(1,9)))\n",
    "df"
   ]
  },
  {
   "cell_type": "code",
   "execution_count": 53,
   "metadata": {},
   "outputs": [
    {
     "name": "stdout",
     "output_type": "stream",
     "text": [
      "Object ` export` not found.\n"
     ]
    }
   ],
   "source": [
    "? export"
   ]
  },
  {
   "cell_type": "markdown",
   "metadata": {},
   "source": [
    "## Inverse LTen"
   ]
  },
  {
   "cell_type": "code",
   "execution_count": 9,
   "metadata": {},
   "outputs": [],
   "source": [
    "def invL(F):\n",
    "    return sympy.inverse_laplace_transform(F, s, t)"
   ]
  },
  {
   "cell_type": "code",
   "execution_count": 10,
   "metadata": {},
   "outputs": [
    {
     "data": {
      "image/png": "[encoded data removed]",
      "text/latex": [
       "$\\displaystyle e^{- a t} \\theta\\left(t\\right)$"
      ],
      "text/plain": [
       " -a⋅t     \n",
       "ℯ    ⋅θ(t)"
      ]
     },
     "execution_count": 10,
     "metadata": {},
     "output_type": "execute_result"
    }
   ],
   "source": [
    "invL(F)"
   ]
  },
  {
   "cell_type": "code",
   "execution_count": 11,
   "metadata": {},
   "outputs": [
    {
     "data": {
      "image/png": "[encoded data removed]",
      "text/latex": [
       "$\\displaystyle e^{- 2 t} \\theta\\left(t\\right)$"
      ],
      "text/plain": [
       " -2⋅t     \n",
       "ℯ    ⋅θ(t)"
      ]
     },
     "execution_count": 11,
     "metadata": {},
     "output_type": "execute_result"
    }
   ],
   "source": [
    "invL(F).subs({a: 2})"
   ]
  },
  {
   "cell_type": "code",
   "execution_count": 49,
   "metadata": {},
   "outputs": [
    {
     "data": {
      "image/png": "[encoded data removed]",
      "text/plain": [
       "<Figure size 432x288 with 1 Axes>"
      ]
     },
     "metadata": {
      "image/png": {
       "height": 283,
       "width": 424
      },
      "needs_background": "light"
     },
     "output_type": "display_data"
    }
   ],
   "source": [
    "p = sympy.plot(f.subs({a: 2}), invL(F).subs({a: 2}),\n",
    "               xlim=(-1, 4), ylim=(0, 3), show=False)\n",
    "p[1].line_color = 'red'\n",
    "p.show()"
   ]
  },
  {
   "cell_type": "code",
   "execution_count": 64,
   "metadata": {},
   "outputs": [
    {
     "data": {
      "text/html": [
       "<div>\n",
       "<style scoped>\n",
       "    .dataframe tbody tr th:only-of-type {\n",
       "        vertical-align: middle;\n",
       "    }\n",
       "\n",
       "    .dataframe tbody tr th {\n",
       "        vertical-align: top;\n",
       "    }\n",
       "\n",
       "    .dataframe thead th {\n",
       "        text-align: right;\n",
       "    }\n",
       "</style>\n",
       "<table border=\"1\" class=\"dataframe\">\n",
       "  <thead>\n",
       "    <tr style=\"text-align: right;\">\n",
       "      <th></th>\n",
       "      <th>Originalfunktion</th>\n",
       "      <th>Bildfunktion</th>\n",
       "    </tr>\n",
       "  </thead>\n",
       "  <tbody>\n",
       "    <tr>\n",
       "      <th>1</th>\n",
       "      <td>$$1$$</td>\n",
       "      <td>$$\\frac{1}{s}$$</td>\n",
       "    </tr>\n",
       "    <tr>\n",
       "      <th>2</th>\n",
       "      <td>$$t$$</td>\n",
       "      <td>$$\\frac{1}{s^{2}}$$</td>\n",
       "    </tr>\n",
       "    <tr>\n",
       "      <th>3</th>\n",
       "      <td>$$e^{- a t}$$</td>\n",
       "      <td>$$\\frac{1}{a + s}$$</td>\n",
       "    </tr>\n",
       "    <tr>\n",
       "      <th>4</th>\n",
       "      <td>$$t e^{- a t}$$</td>\n",
       "      <td>$$\\frac{1}{\\left(a + s\\right)^{2}}$$</td>\n",
       "    </tr>\n",
       "  </tbody>\n",
       "</table>\n",
       "</div>"
      ],
      "text/plain": [
       "  Originalfunktion                          Bildfunktion\n",
       "1            $$1$$                       $$\\frac{1}{s}$$\n",
       "2            $$t$$                   $$\\frac{1}{s^{2}}$$\n",
       "3    $$e^{- a t}$$                   $$\\frac{1}{a + s}$$\n",
       "4  $$t e^{- a t}$$  $$\\frac{1}{\\left(a + s\\right)^{2}}$$"
      ]
     },
     "execution_count": 64,
     "metadata": {},
     "output_type": "execute_result"
    }
   ],
   "source": [
    "df1 = DataFrame({\"Originalfunktion\" : makelatex(functions[0:-6]),\n",
    "                \"Bildfunktion\" : makelatex(Fs[0:-6])},\n",
    "                list(np.arange(1,5)))\n",
    "df1"
   ]
  },
  {
   "cell_type": "code",
   "execution_count": 70,
   "metadata": {},
   "outputs": [
    {
     "data": {
      "text/html": [
       "<div>\n",
       "<style scoped>\n",
       "    .dataframe tbody tr th:only-of-type {\n",
       "        vertical-align: middle;\n",
       "    }\n",
       "\n",
       "    .dataframe tbody tr th {\n",
       "        vertical-align: top;\n",
       "    }\n",
       "\n",
       "    .dataframe thead th {\n",
       "        text-align: right;\n",
       "    }\n",
       "</style>\n",
       "<table border=\"1\" class=\"dataframe\">\n",
       "  <thead>\n",
       "    <tr style=\"text-align: right;\">\n",
       "      <th></th>\n",
       "      <th>Originalfunktion</th>\n",
       "      <th>Bildfunktion</th>\n",
       "    </tr>\n",
       "  </thead>\n",
       "  <tbody>\n",
       "    <tr>\n",
       "      <th>0</th>\n",
       "      <td>$$t^{2} e^{- a t}$$</td>\n",
       "      <td>$$\\frac{2}{\\left(a + s\\right)^{3}}$$</td>\n",
       "    </tr>\n",
       "    <tr>\n",
       "      <th>1</th>\n",
       "      <td>$$\\sin{\\left(\\omega t \\right)}$$</td>\n",
       "      <td>$$\\frac{\\omega}{\\omega^{2} + s^{2}}$$</td>\n",
       "    </tr>\n",
       "    <tr>\n",
       "      <th>2</th>\n",
       "      <td>$$\\cos{\\left(\\omega t \\right)}$$</td>\n",
       "      <td>$$\\frac{s}{\\omega^{2} + s^{2}}$$</td>\n",
       "    </tr>\n",
       "    <tr>\n",
       "      <th>3</th>\n",
       "      <td>$$1 - e^{- a t}$$</td>\n",
       "      <td>$$\\frac{a}{s \\left(a + s\\right)}$$</td>\n",
       "    </tr>\n",
       "  </tbody>\n",
       "</table>\n",
       "</div>"
      ],
      "text/plain": [
       "                   Originalfunktion                           Bildfunktion\n",
       "0               $$t^{2} e^{- a t}$$   $$\\frac{2}{\\left(a + s\\right)^{3}}$$\n",
       "1  $$\\sin{\\left(\\omega t \\right)}$$  $$\\frac{\\omega}{\\omega^{2} + s^{2}}$$\n",
       "2  $$\\cos{\\left(\\omega t \\right)}$$       $$\\frac{s}{\\omega^{2} + s^{2}}$$\n",
       "3                 $$1 - e^{- a t}$$     $$\\frac{a}{s \\left(a + s\\right)}$$"
      ]
     },
     "execution_count": 70,
     "metadata": {},
     "output_type": "execute_result"
    }
   ],
   "source": [
    "df2 = DataFrame({\"Originalfunktion\" : makelatex(functions[-6:-2]),\n",
    "                \"Bildfunktion\" : makelatex(Fs[-6:-2])})\n",
    "df2"
   ]
  },
  {
   "cell_type": "code",
   "execution_count": 63,
   "metadata": {},
   "outputs": [
    {
     "data": {
      "image/png": "[encoded data removed]",
      "text/latex": [
       "$\\displaystyle \\frac{a + s}{\\omega^{2} + \\left(a + s\\right)^{2}}$"
      ],
      "text/plain": [
       "    a + s    \n",
       "─────────────\n",
       " 2          2\n",
       "ω  + (a + s) "
      ]
     },
     "execution_count": 63,
     "metadata": {},
     "output_type": "execute_result"
    }
   ],
   "source": [
    "Fs[-1]"
   ]
  },
  {
   "cell_type": "code",
   "execution_count": null,
   "metadata": {},
   "outputs": [],
   "source": []
  }
 ],
 "metadata": {
  "kernelspec": {
   "display_name": "Python 3",
   "language": "python",
   "name": "python3"
  },
  "language_info": {
   "codemirror_mode": {
    "name": "ipython",
    "version": 3
   },
   "file_extension": ".py",
   "mimetype": "text/x-python",
   "name": "python",
   "nbconvert_exporter": "python",
   "pygments_lexer": "ipython3",
   "version": "3.8.5"
  }
 },
 "nbformat": 4,
 "nbformat_minor": 4
}
